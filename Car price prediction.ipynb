{
  "nbformat": 4,
  "nbformat_minor": 0,
  "metadata": {
    "colab": {
      "provenance": []
    },
    "kernelspec": {
      "name": "python3",
      "display_name": "Python 3"
    },
    "language_info": {
      "name": "python"
    }
  },
  "cells": [
    {
      "cell_type": "code",
      "execution_count": 37,
      "metadata": {
        "id": "lfWZwsqUl36E"
      },
      "outputs": [],
      "source": [
        "import datetime\n",
        "\n",
        "import numpy as np\n",
        "import pandas as pd\n",
        "\n",
        "import matplotlib.pyplot as plt\n",
        "import seaborn as sns\n",
        "%matplotlib inline\n",
        "\n",
        "from sklearn.model_selection import train_test_split\n",
        "from sklearn.linear_model import LinearRegression\n",
        "from sklearn.ensemble import RandomForestRegressor\n",
        "from sklearn.preprocessing import StandardScaler\n",
        "from sklearn.metrics import r2_score"
      ]
    },
    {
      "cell_type": "code",
      "source": [
        "dataset = pd.read_csv(\"CarPrice.csv\")\n",
        "dataset.head(5)"
      ],
      "metadata": {
        "colab": {
          "base_uri": "https://localhost:8080/",
          "height": 351
        },
        "id": "Z4ii-1EitjvA",
        "outputId": "6bbf3774-3a07-448f-8db4-27d311dbe9c0"
      },
      "execution_count": 38,
      "outputs": [
        {
          "output_type": "execute_result",
          "data": {
            "text/plain": [
              "   car_ID  symboling                   CarName fueltype aspiration doornumber  \\\n",
              "0       1          3        alfa-romero giulia      gas        std        two   \n",
              "1       2          3       alfa-romero stelvio      gas        std        two   \n",
              "2       3          1  alfa-romero Quadrifoglio      gas        std        two   \n",
              "3       4          2               audi 100 ls      gas        std       four   \n",
              "4       5          2                audi 100ls      gas        std       four   \n",
              "\n",
              "       carbody drivewheel enginelocation  wheelbase  ...  enginesize  \\\n",
              "0  convertible        rwd          front       88.6  ...         130   \n",
              "1  convertible        rwd          front       88.6  ...         130   \n",
              "2    hatchback        rwd          front       94.5  ...         152   \n",
              "3        sedan        fwd          front       99.8  ...         109   \n",
              "4        sedan        4wd          front       99.4  ...         136   \n",
              "\n",
              "   fuelsystem  boreratio  stroke compressionratio horsepower  peakrpm citympg  \\\n",
              "0        mpfi       3.47    2.68              9.0        111     5000      21   \n",
              "1        mpfi       3.47    2.68              9.0        111     5000      21   \n",
              "2        mpfi       2.68    3.47              9.0        154     5000      19   \n",
              "3        mpfi       3.19    3.40             10.0        102     5500      24   \n",
              "4        mpfi       3.19    3.40              8.0        115     5500      18   \n",
              "\n",
              "   highwaympg    price  \n",
              "0          27  13495.0  \n",
              "1          27  16500.0  \n",
              "2          26  16500.0  \n",
              "3          30  13950.0  \n",
              "4          22  17450.0  \n",
              "\n",
              "[5 rows x 26 columns]"
            ],
            "text/html": [
              "\n",
              "  <div id=\"df-0da14236-bb52-4075-9b4a-be215f3013ad\">\n",
              "    <div class=\"colab-df-container\">\n",
              "      <div>\n",
              "<style scoped>\n",
              "    .dataframe tbody tr th:only-of-type {\n",
              "        vertical-align: middle;\n",
              "    }\n",
              "\n",
              "    .dataframe tbody tr th {\n",
              "        vertical-align: top;\n",
              "    }\n",
              "\n",
              "    .dataframe thead th {\n",
              "        text-align: right;\n",
              "    }\n",
              "</style>\n",
              "<table border=\"1\" class=\"dataframe\">\n",
              "  <thead>\n",
              "    <tr style=\"text-align: right;\">\n",
              "      <th></th>\n",
              "      <th>car_ID</th>\n",
              "      <th>symboling</th>\n",
              "      <th>CarName</th>\n",
              "      <th>fueltype</th>\n",
              "      <th>aspiration</th>\n",
              "      <th>doornumber</th>\n",
              "      <th>carbody</th>\n",
              "      <th>drivewheel</th>\n",
              "      <th>enginelocation</th>\n",
              "      <th>wheelbase</th>\n",
              "      <th>...</th>\n",
              "      <th>enginesize</th>\n",
              "      <th>fuelsystem</th>\n",
              "      <th>boreratio</th>\n",
              "      <th>stroke</th>\n",
              "      <th>compressionratio</th>\n",
              "      <th>horsepower</th>\n",
              "      <th>peakrpm</th>\n",
              "      <th>citympg</th>\n",
              "      <th>highwaympg</th>\n",
              "      <th>price</th>\n",
              "    </tr>\n",
              "  </thead>\n",
              "  <tbody>\n",
              "    <tr>\n",
              "      <th>0</th>\n",
              "      <td>1</td>\n",
              "      <td>3</td>\n",
              "      <td>alfa-romero giulia</td>\n",
              "      <td>gas</td>\n",
              "      <td>std</td>\n",
              "      <td>two</td>\n",
              "      <td>convertible</td>\n",
              "      <td>rwd</td>\n",
              "      <td>front</td>\n",
              "      <td>88.6</td>\n",
              "      <td>...</td>\n",
              "      <td>130</td>\n",
              "      <td>mpfi</td>\n",
              "      <td>3.47</td>\n",
              "      <td>2.68</td>\n",
              "      <td>9.0</td>\n",
              "      <td>111</td>\n",
              "      <td>5000</td>\n",
              "      <td>21</td>\n",
              "      <td>27</td>\n",
              "      <td>13495.0</td>\n",
              "    </tr>\n",
              "    <tr>\n",
              "      <th>1</th>\n",
              "      <td>2</td>\n",
              "      <td>3</td>\n",
              "      <td>alfa-romero stelvio</td>\n",
              "      <td>gas</td>\n",
              "      <td>std</td>\n",
              "      <td>two</td>\n",
              "      <td>convertible</td>\n",
              "      <td>rwd</td>\n",
              "      <td>front</td>\n",
              "      <td>88.6</td>\n",
              "      <td>...</td>\n",
              "      <td>130</td>\n",
              "      <td>mpfi</td>\n",
              "      <td>3.47</td>\n",
              "      <td>2.68</td>\n",
              "      <td>9.0</td>\n",
              "      <td>111</td>\n",
              "      <td>5000</td>\n",
              "      <td>21</td>\n",
              "      <td>27</td>\n",
              "      <td>16500.0</td>\n",
              "    </tr>\n",
              "    <tr>\n",
              "      <th>2</th>\n",
              "      <td>3</td>\n",
              "      <td>1</td>\n",
              "      <td>alfa-romero Quadrifoglio</td>\n",
              "      <td>gas</td>\n",
              "      <td>std</td>\n",
              "      <td>two</td>\n",
              "      <td>hatchback</td>\n",
              "      <td>rwd</td>\n",
              "      <td>front</td>\n",
              "      <td>94.5</td>\n",
              "      <td>...</td>\n",
              "      <td>152</td>\n",
              "      <td>mpfi</td>\n",
              "      <td>2.68</td>\n",
              "      <td>3.47</td>\n",
              "      <td>9.0</td>\n",
              "      <td>154</td>\n",
              "      <td>5000</td>\n",
              "      <td>19</td>\n",
              "      <td>26</td>\n",
              "      <td>16500.0</td>\n",
              "    </tr>\n",
              "    <tr>\n",
              "      <th>3</th>\n",
              "      <td>4</td>\n",
              "      <td>2</td>\n",
              "      <td>audi 100 ls</td>\n",
              "      <td>gas</td>\n",
              "      <td>std</td>\n",
              "      <td>four</td>\n",
              "      <td>sedan</td>\n",
              "      <td>fwd</td>\n",
              "      <td>front</td>\n",
              "      <td>99.8</td>\n",
              "      <td>...</td>\n",
              "      <td>109</td>\n",
              "      <td>mpfi</td>\n",
              "      <td>3.19</td>\n",
              "      <td>3.40</td>\n",
              "      <td>10.0</td>\n",
              "      <td>102</td>\n",
              "      <td>5500</td>\n",
              "      <td>24</td>\n",
              "      <td>30</td>\n",
              "      <td>13950.0</td>\n",
              "    </tr>\n",
              "    <tr>\n",
              "      <th>4</th>\n",
              "      <td>5</td>\n",
              "      <td>2</td>\n",
              "      <td>audi 100ls</td>\n",
              "      <td>gas</td>\n",
              "      <td>std</td>\n",
              "      <td>four</td>\n",
              "      <td>sedan</td>\n",
              "      <td>4wd</td>\n",
              "      <td>front</td>\n",
              "      <td>99.4</td>\n",
              "      <td>...</td>\n",
              "      <td>136</td>\n",
              "      <td>mpfi</td>\n",
              "      <td>3.19</td>\n",
              "      <td>3.40</td>\n",
              "      <td>8.0</td>\n",
              "      <td>115</td>\n",
              "      <td>5500</td>\n",
              "      <td>18</td>\n",
              "      <td>22</td>\n",
              "      <td>17450.0</td>\n",
              "    </tr>\n",
              "  </tbody>\n",
              "</table>\n",
              "<p>5 rows × 26 columns</p>\n",
              "</div>\n",
              "      <button class=\"colab-df-convert\" onclick=\"convertToInteractive('df-0da14236-bb52-4075-9b4a-be215f3013ad')\"\n",
              "              title=\"Convert this dataframe to an interactive table.\"\n",
              "              style=\"display:none;\">\n",
              "        \n",
              "  <svg xmlns=\"http://www.w3.org/2000/svg\" height=\"24px\"viewBox=\"0 0 24 24\"\n",
              "       width=\"24px\">\n",
              "    <path d=\"M0 0h24v24H0V0z\" fill=\"none\"/>\n",
              "    <path d=\"M18.56 5.44l.94 2.06.94-2.06 2.06-.94-2.06-.94-.94-2.06-.94 2.06-2.06.94zm-11 1L8.5 8.5l.94-2.06 2.06-.94-2.06-.94L8.5 2.5l-.94 2.06-2.06.94zm10 10l.94 2.06.94-2.06 2.06-.94-2.06-.94-.94-2.06-.94 2.06-2.06.94z\"/><path d=\"M17.41 7.96l-1.37-1.37c-.4-.4-.92-.59-1.43-.59-.52 0-1.04.2-1.43.59L10.3 9.45l-7.72 7.72c-.78.78-.78 2.05 0 2.83L4 21.41c.39.39.9.59 1.41.59.51 0 1.02-.2 1.41-.59l7.78-7.78 2.81-2.81c.8-.78.8-2.07 0-2.86zM5.41 20L4 18.59l7.72-7.72 1.47 1.35L5.41 20z\"/>\n",
              "  </svg>\n",
              "      </button>\n",
              "      \n",
              "  <style>\n",
              "    .colab-df-container {\n",
              "      display:flex;\n",
              "      flex-wrap:wrap;\n",
              "      gap: 12px;\n",
              "    }\n",
              "\n",
              "    .colab-df-convert {\n",
              "      background-color: #E8F0FE;\n",
              "      border: none;\n",
              "      border-radius: 50%;\n",
              "      cursor: pointer;\n",
              "      display: none;\n",
              "      fill: #1967D2;\n",
              "      height: 32px;\n",
              "      padding: 0 0 0 0;\n",
              "      width: 32px;\n",
              "    }\n",
              "\n",
              "    .colab-df-convert:hover {\n",
              "      background-color: #E2EBFA;\n",
              "      box-shadow: 0px 1px 2px rgba(60, 64, 67, 0.3), 0px 1px 3px 1px rgba(60, 64, 67, 0.15);\n",
              "      fill: #174EA6;\n",
              "    }\n",
              "\n",
              "    [theme=dark] .colab-df-convert {\n",
              "      background-color: #3B4455;\n",
              "      fill: #D2E3FC;\n",
              "    }\n",
              "\n",
              "    [theme=dark] .colab-df-convert:hover {\n",
              "      background-color: #434B5C;\n",
              "      box-shadow: 0px 1px 3px 1px rgba(0, 0, 0, 0.15);\n",
              "      filter: drop-shadow(0px 1px 2px rgba(0, 0, 0, 0.3));\n",
              "      fill: #FFFFFF;\n",
              "    }\n",
              "  </style>\n",
              "\n",
              "      <script>\n",
              "        const buttonEl =\n",
              "          document.querySelector('#df-0da14236-bb52-4075-9b4a-be215f3013ad button.colab-df-convert');\n",
              "        buttonEl.style.display =\n",
              "          google.colab.kernel.accessAllowed ? 'block' : 'none';\n",
              "\n",
              "        async function convertToInteractive(key) {\n",
              "          const element = document.querySelector('#df-0da14236-bb52-4075-9b4a-be215f3013ad');\n",
              "          const dataTable =\n",
              "            await google.colab.kernel.invokeFunction('convertToInteractive',\n",
              "                                                     [key], {});\n",
              "          if (!dataTable) return;\n",
              "\n",
              "          const docLinkHtml = 'Like what you see? Visit the ' +\n",
              "            '<a target=\"_blank\" href=https://colab.research.google.com/notebooks/data_table.ipynb>data table notebook</a>'\n",
              "            + ' to learn more about interactive tables.';\n",
              "          element.innerHTML = '';\n",
              "          dataTable['output_type'] = 'display_data';\n",
              "          await google.colab.output.renderOutput(dataTable, element);\n",
              "          const docLink = document.createElement('div');\n",
              "          docLink.innerHTML = docLinkHtml;\n",
              "          element.appendChild(docLink);\n",
              "        }\n",
              "      </script>\n",
              "    </div>\n",
              "  </div>\n",
              "  "
            ]
          },
          "metadata": {},
          "execution_count": 38
        }
      ]
    },
    {
      "cell_type": "code",
      "source": [
        "X_train, X_test, y_train, y_test = train_test_split(dataset.iloc[:, :-1], \n",
        "                                                    dataset.iloc[:, -1], \n",
        "                                                    test_size = 0.3, \n",
        "                                                    random_state = 42)"
      ],
      "metadata": {
        "id": "TGHqVJqjuHr_"
      },
      "execution_count": 39,
      "outputs": []
    },
    {
      "cell_type": "code",
      "source": [
        "X_train.info()"
      ],
      "metadata": {
        "colab": {
          "base_uri": "https://localhost:8080/"
        },
        "id": "MUQFrdSyuHuq",
        "outputId": "32f0fcaf-c8d0-461d-baed-98a500f2cc3b"
      },
      "execution_count": 40,
      "outputs": [
        {
          "output_type": "stream",
          "name": "stdout",
          "text": [
            "<class 'pandas.core.frame.DataFrame'>\n",
            "Int64Index: 143 entries, 177 to 102\n",
            "Data columns (total 25 columns):\n",
            " #   Column            Non-Null Count  Dtype  \n",
            "---  ------            --------------  -----  \n",
            " 0   car_ID            143 non-null    int64  \n",
            " 1   symboling         143 non-null    int64  \n",
            " 2   CarName           143 non-null    object \n",
            " 3   fueltype          143 non-null    object \n",
            " 4   aspiration        143 non-null    object \n",
            " 5   doornumber        143 non-null    object \n",
            " 6   carbody           143 non-null    object \n",
            " 7   drivewheel        143 non-null    object \n",
            " 8   enginelocation    143 non-null    object \n",
            " 9   wheelbase         143 non-null    float64\n",
            " 10  carlength         143 non-null    float64\n",
            " 11  carwidth          143 non-null    float64\n",
            " 12  carheight         143 non-null    float64\n",
            " 13  curbweight        143 non-null    int64  \n",
            " 14  enginetype        143 non-null    object \n",
            " 15  cylindernumber    143 non-null    object \n",
            " 16  enginesize        143 non-null    int64  \n",
            " 17  fuelsystem        143 non-null    object \n",
            " 18  boreratio         143 non-null    float64\n",
            " 19  stroke            143 non-null    float64\n",
            " 20  compressionratio  143 non-null    float64\n",
            " 21  horsepower        143 non-null    int64  \n",
            " 22  peakrpm           143 non-null    int64  \n",
            " 23  citympg           143 non-null    int64  \n",
            " 24  highwaympg        143 non-null    int64  \n",
            "dtypes: float64(7), int64(8), object(10)\n",
            "memory usage: 29.0+ KB\n"
          ]
        }
      ]
    },
    {
      "cell_type": "markdown",
      "source": [
        "Exploratory Data Analysis-\n",
        "Let's explore the various columns and draw information about how useful each column is. I'll also modify the test data based on training data."
      ],
      "metadata": {
        "id": "BvgnIOacuZmA"
      }
    },
    {
      "cell_type": "markdown",
      "source": [
        "Index-\n",
        "The first column is the index for each data point and hence we can simply remove it."
      ],
      "metadata": {
        "id": "W4ofXPUoumHG"
      }
    },
    {
      "cell_type": "code",
      "source": [
        "X_train = X_train.iloc[:, 1:]\n",
        "X_test = X_test.iloc[:, 1:]"
      ],
      "metadata": {
        "id": "VFxQXWSQuHxX"
      },
      "execution_count": 41,
      "outputs": []
    },
    {
      "cell_type": "markdown",
      "source": [
        "Name-\n",
        "\n",
        "Let's explore the various cars in the dataset.\n"
      ],
      "metadata": {
        "id": "ipaY-1Lgu8rC"
      }
    },
    {
      "cell_type": "code",
      "source": [
        "X_train[\"CarName\"].value_counts()"
      ],
      "metadata": {
        "colab": {
          "base_uri": "https://localhost:8080/"
        },
        "id": "DlfYqWdXu9-r",
        "outputId": "3a697ce7-5bb1-486a-fa85-71e9dd307341"
      },
      "execution_count": 42,
      "outputs": [
        {
          "output_type": "execute_result",
          "data": {
            "text/plain": [
              "peugeot 504                     5\n",
              "toyota corona                   4\n",
              "toyota corolla                  3\n",
              "subaru dl                       3\n",
              "subaru                          2\n",
              "                               ..\n",
              "volkswagen 1131 deluxe sedan    1\n",
              "volkswagen model 111            1\n",
              "alfa-romero giulia              1\n",
              "toyota tercel                   1\n",
              "nissan fuga                     1\n",
              "Name: CarName, Length: 110, dtype: int64"
            ]
          },
          "metadata": {},
          "execution_count": 42
        }
      ]
    },
    {
      "cell_type": "code",
      "source": [
        "make_train = X_train[\"CarName\"].str.split(\" \", expand = True)\n",
        "make_test = X_test[\"CarName\"].str.split(\" \", expand = True)"
      ],
      "metadata": {
        "id": "ytg2dC9Oxm5X"
      },
      "execution_count": 43,
      "outputs": []
    },
    {
      "cell_type": "code",
      "source": [
        "X_train[\"Manufacturer\"] = make_train[0]\n",
        "X_test[\"Manufacturer\"] = make_test[0]"
      ],
      "metadata": {
        "id": "IPhYkVeyxnG3"
      },
      "execution_count": 44,
      "outputs": []
    },
    {
      "cell_type": "code",
      "source": [
        "plt.figure(figsize = (12, 8))\n",
        "plot = sns.countplot(x = 'Manufacturer', data = X_train)\n",
        "plt.xticks(rotation = 90)\n",
        "for p in plot.patches:\n",
        "    plot.annotate(p.get_height(), \n",
        "                        (p.get_x() + p.get_width() / 2.0, \n",
        "                         p.get_height()), \n",
        "                        ha = 'center', \n",
        "                        va = 'center', \n",
        "                        xytext = (0, 5),\n",
        "                        textcoords = 'offset points')\n",
        "\n",
        "plt.title(\"Count of cars based on manufacturers\")\n",
        "plt.xlabel(\"Manufacturer\")\n",
        "plt.ylabel(\"Count of cars\")"
      ],
      "metadata": {
        "colab": {
          "base_uri": "https://localhost:8080/",
          "height": 579
        },
        "id": "J_k0pnO2yENc",
        "outputId": "8c77b4dd-0da1-40a9-aaac-611e92d16afb"
      },
      "execution_count": 45,
      "outputs": [
        {
          "output_type": "execute_result",
          "data": {
            "text/plain": [
              "Text(0, 0.5, 'Count of cars')"
            ]
          },
          "metadata": {},
          "execution_count": 45
        },
        {
          "output_type": "display_data",
          "data": {
            "text/plain": [
              "<Figure size 864x576 with 1 Axes>"
            ],
            "image/png": "[encoded data removed]"
          },
          "metadata": {
            "needs_background": "light"
          }
        }
      ]
    },
    {
      "cell_type": "markdown",
      "source": [
        "Maximum cars in the dataset are by the manufacturer Maruti and there are no null values.\n",
        "\n",
        "I'll also drop the CarName column.\n"
      ],
      "metadata": {
        "id": "v-u8giHRycSg"
      }
    },
    {
      "cell_type": "code",
      "source": [
        "X_train.drop(\"CarName\", axis = 1, inplace = True)\n",
        "X_test.drop(\"CarName\", axis = 1, inplace = True)"
      ],
      "metadata": {
        "id": "k7v-IHxKyeAl"
      },
      "execution_count": 46,
      "outputs": []
    },
    {
      "cell_type": "code",
      "source": [],
      "metadata": {
        "id": "IJ569C_A5gld"
      },
      "execution_count": 13,
      "outputs": []
    },
    {
      "cell_type": "markdown",
      "source": [
        "engine size, boreratio, stroke, compressionratio, horsepower, peakrpm, citympg\n",
        "\n",
        "enginesize is a numerical column with a certain range of values."
      ],
      "metadata": {
        "id": "j2njd_e46cFr"
      }
    },
    {
      "cell_type": "code",
      "source": [
        "X_train[\"enginesize\"]"
      ],
      "metadata": {
        "colab": {
          "base_uri": "https://localhost:8080/"
        },
        "id": "cXe99JmP6l3e",
        "outputId": "2bc4db95-f21f-4cf9-8f15-9378da6ae37c"
      },
      "execution_count": 47,
      "outputs": [
        {
          "output_type": "execute_result",
          "data": {
            "text/plain": [
              "177    122\n",
              "75     140\n",
              "174    110\n",
              "31      92\n",
              "12     164\n",
              "      ... \n",
              "106    181\n",
              "14     164\n",
              "92      97\n",
              "179    171\n",
              "102    181\n",
              "Name: enginesize, Length: 143, dtype: int64"
            ]
          },
          "metadata": {},
          "execution_count": 47
        }
      ]
    },
    {
      "cell_type": "code",
      "source": [
        "X_train[\"boreratio\"]"
      ],
      "metadata": {
        "colab": {
          "base_uri": "https://localhost:8080/"
        },
        "id": "gDEbBnt46mOW",
        "outputId": "961f966f-9087-4505-e98c-657e9768aa54"
      },
      "execution_count": 48,
      "outputs": [
        {
          "output_type": "execute_result",
          "data": {
            "text/plain": [
              "177    3.31\n",
              "75     3.78\n",
              "174    3.27\n",
              "31     2.91\n",
              "12     3.31\n",
              "       ... \n",
              "106    3.43\n",
              "14     3.31\n",
              "92     3.15\n",
              "179    3.27\n",
              "102    3.43\n",
              "Name: boreratio, Length: 143, dtype: float64"
            ]
          },
          "metadata": {},
          "execution_count": 48
        }
      ]
    },
    {
      "cell_type": "code",
      "source": [
        "X_train[\"stroke\"]"
      ],
      "metadata": {
        "colab": {
          "base_uri": "https://localhost:8080/"
        },
        "id": "dg5UV6dh70am",
        "outputId": "1e791c18-3df1-493a-b4d6-8c077146f04b"
      },
      "execution_count": 49,
      "outputs": [
        {
          "output_type": "execute_result",
          "data": {
            "text/plain": [
              "177    3.54\n",
              "75     3.12\n",
              "174    3.35\n",
              "31     3.41\n",
              "12     3.19\n",
              "       ... \n",
              "106    3.27\n",
              "14     3.19\n",
              "92     3.29\n",
              "179    3.35\n",
              "102    3.27\n",
              "Name: stroke, Length: 143, dtype: float64"
            ]
          },
          "metadata": {},
          "execution_count": 49
        }
      ]
    },
    {
      "cell_type": "code",
      "source": [
        "X_train[\"compressionratio\"]"
      ],
      "metadata": {
        "colab": {
          "base_uri": "https://localhost:8080/"
        },
        "id": "b2CAVL6Y79_x",
        "outputId": "37151f9f-eebb-4f68-cd4f-e7e22df2a410"
      },
      "execution_count": 50,
      "outputs": [
        {
          "output_type": "execute_result",
          "data": {
            "text/plain": [
              "177     8.7\n",
              "75      8.0\n",
              "174    22.5\n",
              "31      9.2\n",
              "12      9.0\n",
              "       ... \n",
              "106     9.0\n",
              "14      9.0\n",
              "92      9.4\n",
              "179     9.3\n",
              "102     9.0\n",
              "Name: compressionratio, Length: 143, dtype: float64"
            ]
          },
          "metadata": {},
          "execution_count": 50
        }
      ]
    },
    {
      "cell_type": "code",
      "source": [
        "X_train[\"horsepower\"]"
      ],
      "metadata": {
        "colab": {
          "base_uri": "https://localhost:8080/"
        },
        "id": "15NbLpa-7-DU",
        "outputId": "60669c20-d851-41d3-c745-61ba0b8c2a40"
      },
      "execution_count": 51,
      "outputs": [
        {
          "output_type": "execute_result",
          "data": {
            "text/plain": [
              "177     92\n",
              "75     175\n",
              "174     73\n",
              "31      76\n",
              "12     121\n",
              "      ... \n",
              "106    160\n",
              "14     121\n",
              "92      69\n",
              "179    161\n",
              "102    152\n",
              "Name: horsepower, Length: 143, dtype: int64"
            ]
          },
          "metadata": {},
          "execution_count": 51
        }
      ]
    },
    {
      "cell_type": "code",
      "source": [
        "X_train[\"peakrpm\"]"
      ],
      "metadata": {
        "colab": {
          "base_uri": "https://localhost:8080/"
        },
        "id": "qkpX0Jts8CuC",
        "outputId": "63384946-02d7-4b47-e6d0-7d6f286209c2"
      },
      "execution_count": 52,
      "outputs": [
        {
          "output_type": "execute_result",
          "data": {
            "text/plain": [
              "177    4200\n",
              "75     5000\n",
              "174    4500\n",
              "31     6000\n",
              "12     4250\n",
              "       ... \n",
              "106    5200\n",
              "14     4250\n",
              "92     5200\n",
              "179    5200\n",
              "102    5200\n",
              "Name: peakrpm, Length: 143, dtype: int64"
            ]
          },
          "metadata": {},
          "execution_count": 52
        }
      ]
    },
    {
      "cell_type": "code",
      "source": [
        "X_train[\"citympg\"]"
      ],
      "metadata": {
        "colab": {
          "base_uri": "https://localhost:8080/"
        },
        "id": "M1Bg4dPK8C7C",
        "outputId": "560f3e8f-4982-436e-fbfb-ea58b6fc280d"
      },
      "execution_count": 53,
      "outputs": [
        {
          "output_type": "execute_result",
          "data": {
            "text/plain": [
              "177    27\n",
              "75     19\n",
              "174    30\n",
              "31     31\n",
              "12     21\n",
              "       ..\n",
              "106    19\n",
              "14     20\n",
              "92     31\n",
              "179    19\n",
              "102    17\n",
              "Name: citympg, Length: 143, dtype: int64"
            ]
          },
          "metadata": {},
          "execution_count": 53
        }
      ]
    },
    {
      "cell_type": "code",
      "source": [
        "X_train[\"highwaympg\"]"
      ],
      "metadata": {
        "colab": {
          "base_uri": "https://localhost:8080/"
        },
        "id": "hUCrkUv586or",
        "outputId": "4ffff06d-7546-47a5-cf57-32d647d6d9e5"
      },
      "execution_count": 54,
      "outputs": [
        {
          "output_type": "execute_result",
          "data": {
            "text/plain": [
              "177    32\n",
              "75     24\n",
              "174    33\n",
              "31     38\n",
              "12     28\n",
              "       ..\n",
              "106    25\n",
              "14     25\n",
              "92     37\n",
              "179    24\n",
              "102    22\n",
              "Name: highwaympg, Length: 143, dtype: int64"
            ]
          },
          "metadata": {},
          "execution_count": 54
        }
      ]
    },
    {
      "cell_type": "code",
      "source": [
        "X_train[\"curbweight\"]"
      ],
      "metadata": {
        "colab": {
          "base_uri": "https://localhost:8080/"
        },
        "id": "XZKtcuhj9FRJ",
        "outputId": "6d339cc1-2de7-4c96-b86f-af96177e4f97"
      },
      "execution_count": 55,
      "outputs": [
        {
          "output_type": "execute_result",
          "data": {
            "text/plain": [
              "177    2458\n",
              "75     2910\n",
              "174    2480\n",
              "31     1819\n",
              "12     2710\n",
              "       ... \n",
              "106    3139\n",
              "14     3055\n",
              "92     1938\n",
              "179    3016\n",
              "102    3296\n",
              "Name: curbweight, Length: 143, dtype: int64"
            ]
          },
          "metadata": {},
          "execution_count": 55
        }
      ]
    },
    {
      "cell_type": "code",
      "source": [
        "X_train[\"wheelbase\"]"
      ],
      "metadata": {
        "colab": {
          "base_uri": "https://localhost:8080/"
        },
        "id": "LcDS190O89OG",
        "outputId": "e8fda248-80bb-477f-d6c8-c3105b80b2f1"
      },
      "execution_count": 56,
      "outputs": [
        {
          "output_type": "execute_result",
          "data": {
            "text/plain": [
              "177    102.4\n",
              "75     102.7\n",
              "174    102.4\n",
              "31      86.6\n",
              "12     101.2\n",
              "       ...  \n",
              "106     99.2\n",
              "14     103.5\n",
              "92      94.5\n",
              "179    102.9\n",
              "102    100.4\n",
              "Name: wheelbase, Length: 143, dtype: float64"
            ]
          },
          "metadata": {},
          "execution_count": 56
        }
      ]
    },
    {
      "cell_type": "code",
      "source": [
        "X_train.drop(\"aspiration\", axis = 1, inplace = True)\n",
        "X_test.drop(\"aspiration\", axis = 1, inplace = True)"
      ],
      "metadata": {
        "id": "cFrWe4BqgjqD"
      },
      "execution_count": 65,
      "outputs": []
    },
    {
      "cell_type": "code",
      "source": [
        "X_train.drop(\"doornumber\", axis = 1, inplace = True)\n",
        "X_test.drop(\"doornumber\", axis = 1, inplace = True)"
      ],
      "metadata": {
        "id": "O8zHVeTPg5RU"
      },
      "execution_count": 66,
      "outputs": []
    },
    {
      "cell_type": "code",
      "source": [
        "X_train.drop(\"carbody\", axis = 1, inplace = True)\n",
        "X_test.drop(\"carbody\", axis = 1, inplace = True)"
      ],
      "metadata": {
        "id": "HHp0UmKFhGck"
      },
      "execution_count": 67,
      "outputs": []
    },
    {
      "cell_type": "code",
      "source": [
        "X_train.drop(\"drivewheel\", axis = 1, inplace = True)\n",
        "X_test.drop(\"drivewheel\", axis = 1, inplace = True)"
      ],
      "metadata": {
        "id": "mZAaNGDxhGuE"
      },
      "execution_count": 68,
      "outputs": []
    },
    {
      "cell_type": "code",
      "source": [
        "X_train.drop(\"enginelocation\", axis = 1, inplace = True)\n",
        "X_test.drop(\"enginelocation\", axis = 1, inplace = True)"
      ],
      "metadata": {
        "id": "v5QqIKYNhGxl"
      },
      "execution_count": 69,
      "outputs": []
    },
    {
      "cell_type": "code",
      "source": [
        "X_train.drop(\"enginetype\", axis = 1, inplace = True)\n",
        "X_test.drop(\"enginetype\", axis = 1, inplace = True)"
      ],
      "metadata": {
        "id": "QO5QHWBgiAQI"
      },
      "execution_count": 72,
      "outputs": []
    },
    {
      "cell_type": "code",
      "source": [
        "X_train.drop(\"cylindernumber\", axis = 1, inplace = True)\n",
        "X_test.drop(\"cylindernumber\", axis = 1, inplace = True)"
      ],
      "metadata": {
        "id": "9_ByM86liKRc"
      },
      "execution_count": 73,
      "outputs": []
    },
    {
      "cell_type": "code",
      "source": [
        "X_train.drop(\"fuelsystem\", axis = 1, inplace = True)\n",
        "X_test.drop(\"fuelsystem\", axis = 1, inplace = True)"
      ],
      "metadata": {
        "id": "zBG9QwxyiKYE"
      },
      "execution_count": 74,
      "outputs": []
    },
    {
      "cell_type": "code",
      "source": [
        "X_train.drop(\"\", axis = 1, inplace = True)\n",
        "X_test.drop(\"\", axis = 1, inplace = True)"
      ],
      "metadata": {
        "id": "soPJu_SFiKfO"
      },
      "execution_count": null,
      "outputs": []
    },
    {
      "cell_type": "code",
      "source": [
        "X_train.drop(\"\", axis = 1, inplace = True)\n",
        "X_test.drop(\"\", axis = 1, inplace = True)"
      ],
      "metadata": {
        "id": "5qzRHpwAiKyR"
      },
      "execution_count": null,
      "outputs": []
    },
    {
      "cell_type": "markdown",
      "source": [
        "Data Processing\n",
        "\n",
        "Now that we have worked with the training data, let's create dummy columns for categorical columns before we begin training."
      ],
      "metadata": {
        "id": "rlD1lvtyjQZE"
      }
    },
    {
      "cell_type": "code",
      "source": [
        "X_train = pd.get_dummies(X_train,\n",
        "                         columns = [\"Manufacturer\",\"enginesize\", \"boreratio\",\"stroke\", \"compressionratio\", \"horsepower\", \"peakrpm\", \"citympg\"],\n",
        "                         drop_first = True)"
      ],
      "metadata": {
        "id": "LZ45eXwgft8r"
      },
      "execution_count": 57,
      "outputs": []
    },
    {
      "cell_type": "code",
      "source": [
        "X_test = pd.get_dummies(X_test,\n",
        "                         columns = [\"Manufacturer\",\"enginesize\", \"boreratio\",\"stroke\", \"compressionratio\", \"horsepower\", \"peakrpm\", \"citympg\"],\n",
        "                         drop_first = True)"
      ],
      "metadata": {
        "id": "oYC1SdMPfuHV"
      },
      "execution_count": 58,
      "outputs": []
    },
    {
      "cell_type": "markdown",
      "source": [
        "It might be possible that the dummy column creation would be different in test and train data, thus, I'd fill in all missing columns with zeros.\n"
      ],
      "metadata": {
        "id": "nbgbRlKYjC-c"
      }
    },
    {
      "cell_type": "code",
      "source": [
        "missing_cols = set(X_train.columns) - set(X_test.columns)\n",
        "for col in missing_cols:\n",
        "    X_test[col] = 0\n",
        "X_test = X_test[X_train.columns]"
      ],
      "metadata": {
        "id": "6R9pg8Q7gHwl"
      },
      "execution_count": 75,
      "outputs": []
    },
    {
      "cell_type": "markdown",
      "source": [
        "Finally, as the last step of data processing, I'll scale the data."
      ],
      "metadata": {
        "id": "l2-cZdJli-vy"
      }
    },
    {
      "cell_type": "code",
      "source": [
        "standardScaler = StandardScaler()\n",
        "standardScaler.fit(X_train)\n",
        "X_train = standardScaler.transform(X_train)\n",
        "X_test = standardScaler.transform(X_test)"
      ],
      "metadata": {
        "id": "f-znbdYUgH7Y"
      },
      "execution_count": 76,
      "outputs": []
    },
    {
      "cell_type": "markdown",
      "source": [
        "Training and predicting\n",
        "\n",
        "I'll create a Linear Regression model and a Random Forest model to train on the data and use it for future predictions."
      ],
      "metadata": {
        "id": "BJcDguzqi2fi"
      }
    },
    {
      "cell_type": "code",
      "source": [
        "linearRegression = LinearRegression()\n",
        "linearRegression.fit(X_train, y_train)\n",
        "y_pred = linearRegression.predict(X_test)\n",
        "r2_score(y_test, y_pred)"
      ],
      "metadata": {
        "colab": {
          "base_uri": "https://localhost:8080/"
        },
        "id": "E1_I7eIXiAmD",
        "outputId": "60750495-cfdf-48ed-ce17-5f876126b863"
      },
      "execution_count": 77,
      "outputs": [
        {
          "output_type": "execute_result",
          "data": {
            "text/plain": [
              "-7.512020990152097e+25"
            ]
          },
          "metadata": {},
          "execution_count": 77
        }
      ]
    },
    {
      "cell_type": "code",
      "source": [
        "rf = RandomForestRegressor(n_estimators = 100)\n",
        "rf.fit(X_train, y_train)\n",
        "y_pred = rf.predict(X_test)\n",
        "r2_score(y_test, y_pred)"
      ],
      "metadata": {
        "colab": {
          "base_uri": "https://localhost:8080/"
        },
        "id": "Bqz0k56KiyF7",
        "outputId": "a3742695-fccb-4e82-e031-1a9b7b41356b"
      },
      "execution_count": 78,
      "outputs": [
        {
          "output_type": "execute_result",
          "data": {
            "text/plain": [
              "0.8163783518534432"
            ]
          },
          "metadata": {},
          "execution_count": 78
        }
      ]
    }
  ]
}